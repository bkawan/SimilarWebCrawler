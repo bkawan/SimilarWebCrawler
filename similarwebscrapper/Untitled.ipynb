{
 "cells": [
  {
   "cell_type": "code",
   "execution_count": 2,
   "metadata": {
    "collapsed": false
   },
   "outputs": [],
   "source": [
    "import json\n",
    "\n",
    "with open(\"similarweb.json\") as data:\n",
    "    a = json.load(data)"
   ]
  },
  {
   "cell_type": "code",
   "execution_count": 3,
   "metadata": {
    "collapsed": true
   },
   "outputs": [],
   "source": [
    "with open(\"similarweb-jsonSample.json\") as data:\n",
    "    b = json.load(data)"
   ]
  },
  {
   "cell_type": "code",
   "execution_count": 4,
   "metadata": {
    "collapsed": false
   },
   "outputs": [
    {
     "data": {
      "text/plain": [
       "{u'overview': {u'AdNetworks': {u'Count': 6,\n",
       "   u'Data': [[u'Google Display Network', u'', 0.5026093556692278, 0],\n",
       "    [u'Outbrain', u'', 0.20025845006906143, 0],\n",
       "    [u'Taboola', u'', 0.16294321092575806, 0],\n",
       "    [u'Microsoft adCenter', u'', 0.03855908044808015, 0],\n",
       "    [u'Media6Degrees', u'', 0.02612066740031236, 0],\n",
       "    [u'Other', u'', 0.06950923548756051, 0]]},\n",
       "  u'Category': u'Career_and_Education/Jobs_and_Employment',\n",
       "  u'CategoryRank': [8, 0, -1, 0],\n",
       "  u'Country': 840,\n",
       "  u'CountryRanks': {u'840': [300, 0, 0, 0]},\n",
       "  u'Date': u'2016-05-01T00:00:00',\n",
       "  u'Engagements': {u'BounceRate': u'54.12%',\n",
       "   u'LastEngagementMonth': 5,\n",
       "   u'LastEngagementYear': 2016,\n",
       "   u'PageViews': u'4.02',\n",
       "   u'TimeOnSite': u'00:03:38',\n",
       "   u'TotalLastMonthVisits': u'33.3M',\n",
       "   u'WeeklyTrafficNumbers': {u'2015-12-01': 25662672,\n",
       "    u'2016-01-01': 32654757,\n",
       "    u'2016-02-01': 30746706,\n",
       "    u'2016-03-01': 34722055,\n",
       "    u'2016-04-01': 32224561,\n",
       "    u'2016-05-01': 33305839}},\n",
       "  u'GlobalRank': [1359, 0, -1, 0],\n",
       "  u'Icon': u'https://site-images.similarcdn.com/image?url=monster.com&t=2&s=1&h=10651366102018691525',\n",
       "  u'IsVerifiedData': False,\n",
       "  u'RedirectUrl': u'monster.com',\n",
       "  u'Referrals': {u'destination': [{u'Site': u'ziprecruiter.com',\n",
       "     u'Value': 0.16363221859693666},\n",
       "    {u'Site': u'facebook.com', u'Value': 0.10350809131067792},\n",
       "    {u'Site': u'beyond.com', u'Value': 0.05942054095321027},\n",
       "    {u'Site': u'startwire.com', u'Value': 0.0544153995957304},\n",
       "    {u'Site': u'thumbtack.com', u'Value': 0.029307119605647036}],\n",
       "   u'referrals': [{u'Site': u'indeed.com', u'Value': 0.41384164393938105},\n",
       "    {u'Site': u'login.usajobs.gov', u'Value': 0.11700523816053987},\n",
       "    {u'Site': u'beyond.com', u'Value': 0.05005860781365885},\n",
       "    {u'Site': u'jobs2careers.com', u'Value': 0.028468316543479887},\n",
       "    {u'Site': u'jobs-to-careers.com', u'Value': 0.02665330132353917}]},\n",
       "  u'TopCountryShares': [[840.0, 0.8003780822066907],\n",
       "   [356.0, 0.04456895154617998],\n",
       "   [124.0, 0.015333481750562088],\n",
       "   [826.0, 0.011933137874530802],\n",
       "   [608.0, 0.010005249228962869]],\n",
       "  u'TrafficSources': {u'Appstore Internals': 0.0,\n",
       "   u'Direct': 0.2950386786491432,\n",
       "   u'Mail': 0.0383822537291763,\n",
       "   u'Paid Referrals': 0.0022816820634327965,\n",
       "   u'Referrals': 0.1734558892888756,\n",
       "   u'Search': 0.47964662053199886,\n",
       "   u'Social': 0.011194875737373145}}}"
      ]
     },
     "execution_count": 4,
     "metadata": {},
     "output_type": "execute_result"
    }
   ],
   "source": [
    "a"
   ]
  },
  {
   "cell_type": "code",
   "execution_count": 13,
   "metadata": {
    "collapsed": false
   },
   "outputs": [
    {
     "data": {
      "text/plain": [
       "[u'Domain',\n",
       " u'Description',\n",
       " u'Similar_Sites',\n",
       " u'Ranks',\n",
       " u'Topics',\n",
       " u'Engagement',\n",
       " u'Also_Visited_Websites',\n",
       " u'Traffic_Sources',\n",
       " u'Traffic_By_Countries',\n",
       " u'SimilarWebURL',\n",
       " u'Audience_Interests',\n",
       " u'Related_Mobile_Apps']"
      ]
     },
     "execution_count": 13,
     "metadata": {},
     "output_type": "execute_result"
    }
   ],
   "source": [
    "b.keys()"
   ]
  },
  {
   "cell_type": "code",
   "execution_count": 105,
   "metadata": {
    "collapsed": false
   },
   "outputs": [
    {
     "data": {
      "text/plain": [
       "[u'Search',\n",
       " u'Referrals',\n",
       " u'Direct',\n",
       " u'Display_Advertising',\n",
       " u'Social',\n",
       " u'Mail']"
      ]
     },
     "execution_count": 105,
     "metadata": {},
     "output_type": "execute_result"
    }
   ],
   "source": [
    "b.values()[7].keys()\n",
    "\n"
   ]
  },
  {
   "cell_type": "code",
   "execution_count": 121,
   "metadata": {
    "collapsed": false
   },
   "outputs": [
    {
     "data": {
      "text/plain": [
       "[u'Percent']"
      ]
     },
     "execution_count": 121,
     "metadata": {},
     "output_type": "execute_result"
    }
   ],
   "source": [
    "b.values()[7].values()[2].keys()\n"
   ]
  },
  {
   "cell_type": "code",
   "execution_count": 122,
   "metadata": {
    "collapsed": false
   },
   "outputs": [
    {
     "data": {
      "text/plain": [
       "[0.3261]"
      ]
     },
     "execution_count": 122,
     "metadata": {},
     "output_type": "execute_result"
    }
   ],
   "source": [
    "b.values()[7].values()[2].values()\n",
    "\n"
   ]
  },
  {
   "cell_type": "code",
   "execution_count": 132,
   "metadata": {
    "collapsed": false
   },
   "outputs": [
    {
     "data": {
      "text/plain": [
       "[u'Domain', u'Percent']"
      ]
     },
     "execution_count": 132,
     "metadata": {},
     "output_type": "execute_result"
    }
   ],
   "source": [
    "b.values()[7].values()[1].values()[2].values()[0][0].keys()\n",
    "\n"
   ]
  },
  {
   "cell_type": "code",
   "execution_count": 74,
   "metadata": {
    "collapsed": false
   },
   "outputs": [
    {
     "data": {
      "text/plain": [
       "u'Top_Destination'"
      ]
     },
     "execution_count": 74,
     "metadata": {},
     "output_type": "execute_result"
    }
   ],
   "source": [
    "b.values()[7].values()[1].keys()[0]\n"
   ]
  },
  {
   "cell_type": "code",
   "execution_count": 150,
   "metadata": {
    "collapsed": false
   },
   "outputs": [
    {
     "data": {
      "text/plain": [
       "[u'Search',\n",
       " u'Referrals',\n",
       " u'Direct',\n",
       " u'Display_Advertising',\n",
       " u'Social',\n",
       " u'Mail']"
      ]
     },
     "execution_count": 150,
     "metadata": {},
     "output_type": "execute_result"
    }
   ],
   "source": [
    "b.values()[7].keys()\n"
   ]
  },
  {
   "cell_type": "code",
   "execution_count": 181,
   "metadata": {
    "collapsed": false
   },
   "outputs": [
    {
     "data": {
      "text/plain": [
       "[u'monster',\n",
       " u'cover letter',\n",
       " u'monster jobs',\n",
       " u'resignation letter',\n",
       " u'monster.com']"
      ]
     },
     "execution_count": 181,
     "metadata": {},
     "output_type": "execute_result"
    }
   ],
   "source": [
    "b.values()[7].values()[0].values()[0].values()[0]"
   ]
  },
  {
   "cell_type": "code",
   "execution_count": 168,
   "metadata": {
    "collapsed": false
   },
   "outputs": [
    {
     "data": {
      "text/plain": [
       "{u'Percent': 0.0247}"
      ]
     },
     "execution_count": 168,
     "metadata": {},
     "output_type": "execute_result"
    }
   ],
   "source": [
    "b.values()[7].values()[-1]"
   ]
  },
  {
   "cell_type": "code",
   "execution_count": 182,
   "metadata": {
    "collapsed": false
   },
   "outputs": [
    {
     "name": "stdout",
     "output_type": "stream",
     "text": [
      "(u'Category_Rank', {u'Sub_Category': u'Jobs and Employment', u'Rank': 9, u'Main_Category': u'Career and Education'})\n",
      "(u'Sub_Category', u'Jobs and Employment')\n",
      "(u'Rank', 9)\n",
      "(u'Main_Category', u'Career and Education')\n",
      "**********************\n",
      "(u'Global_Rank', {u'Rank': 1393})\n",
      "(u'Rank', 1393)\n",
      "**********************\n",
      "(u'Country_Rank', {u'Country': u'United States', u'Rank': 300})\n",
      "(u'Country', u'United States')\n",
      "(u'Rank', 300)\n",
      "**********************\n"
     ]
    }
   ],
   "source": [
    "a = b.values()[3]\n",
    "\n",
    "for k,v in a.items():\n",
    "    print(k,v)\n",
    "    if type(v) is dict:\n",
    "        for x,y in v.items():\n",
    "            print(x,y)\n",
    "    print('**********************')"
   ]
  },
  {
   "cell_type": "code",
   "execution_count": null,
   "metadata": {
    "collapsed": false
   },
   "outputs": [],
   "source": []
  },
  {
   "cell_type": "code",
   "execution_count": null,
   "metadata": {
    "collapsed": true
   },
   "outputs": [],
   "source": []
  },
  {
   "cell_type": "code",
   "execution_count": 15,
   "metadata": {
    "collapsed": false
   },
   "outputs": [
    {
     "name": "stdout",
     "output_type": "stream",
     "text": [
      "(u'Domain', u'monster.com')\n",
      "****************\n",
      "(u'Description', u\"Monster is your source for jobs and career opportunities. Search for jobs, read career advice from Monster's job experts, and find hiring and recruiting advice.\")\n",
      "****************\n",
      "(u'Similar_Sites', [u'Careerbuilder.com', u'Indeed.com', u'Simplyhired.com', u'Hotjobs.yahoo.com', u'Dice.com', u'Snagajob.com', u'Monsterindia.com', u'Jobster.com', u'Net-Temps.com', u'Employmentguide.com', u'Indeed.com', u'Careerbuilder.com', u'Dice.com', u'Snagajob.com', u'Simplyhired.com', u'Monsterindia.com', u'Jobs.net', u'Beyond.com', u'Quintcareers.com', u'Job-Hunt.org'])\n",
      "****************\n",
      "(u'Ranks', {u'Category_Rank': {u'Sub_Category': u'Jobs and Employment', u'Rank': 9, u'Main_Category': u'Career and Education'}, u'Global_Rank': {u'Rank': 1393}, u'Country_Rank': {u'Country': u'United States', u'Rank': 300}})\n",
      "****************\n",
      "(u'Topics', [{u'Data_Weight': 80.0, u'Topic_Name': u'jobs'}, {u'Data_Weight': 79.2547, u'Topic_Name': u'job'}, {u'Data_Weight': 66.9902, u'Topic_Name': u'career'}, {u'Data_Weight': 64.5909, u'Topic_Name': u'job search'}, {u'Data_Weight': 62.7018, u'Topic_Name': u'job search engines'}, {u'Data_Weight': 59.2269, u'Topic_Name': u'job boards'}, {u'Data_Weight': 58.5617, u'Topic_Name': u'job hunt'}, {u'Data_Weight': 58.3412, u'Topic_Name': u'career planning'}, {u'Data_Weight': 48.4562, u'Topic_Name': u'employment'}, {u'Data_Weight': 43.2183, u'Topic_Name': u'career resources'}, {u'Data_Weight': 43.2183, u'Topic_Name': u'international jobs'}, {u'Data_Weight': 42.1449, u'Topic_Name': u'dice'}, {u'Data_Weight': 39.4517, u'Topic_Name': u'boards'}, {u'Data_Weight': 39.4517, u'Topic_Name': u'post'}, {u'Data_Weight': 39.4517, u'Topic_Name': u'job seeker'}, {u'Data_Weight': 39.4517, u'Topic_Name': u'job postings'}, {u'Data_Weight': 39.4517, u'Topic_Name': u'job posting'}, {u'Data_Weight': 36.5378, u'Topic_Name': u'search'}, {u'Data_Weight': 34.7688, u'Topic_Name': u'job resources'}, {u'Data_Weight': 33.1802, u'Topic_Name': u'search engine'}, {u'Data_Weight': 32.9711, u'Topic_Name': u'it jobs'}, {u'Data_Weight': 31.2507, u'Topic_Name': u'job search engine'}, {u'Data_Weight': 26.2507, u'Topic_Name': u'login'}, {u'Data_Weight': 26.2507, u'Topic_Name': u'employer'}, {u'Data_Weight': 26.2507, u'Topic_Name': u'home'}, {u'Data_Weight': 21.7844, u'Topic_Name': u'careers'}, {u'Data_Weight': 20.7812, u'Topic_Name': u'salaries'}, {u'Data_Weight': 20.7812, u'Topic_Name': u'salary'}, {u'Data_Weight': 18.9317, u'Topic_Name': u'network'}, {u'Data_Weight': 18.9317, u'Topic_Name': u'resume'}, {u'Data_Weight': 18.9317, u'Topic_Name': u'jobsearch'}, {u'Data_Weight': 18.8645, u'Topic_Name': u'employment search'}, {u'Data_Weight': 17.6966, u'Topic_Name': u'job listings'}, {u'Data_Weight': 17.6966, u'Topic_Name': u'reviews'}, {u'Data_Weight': 17.6966, u'Topic_Name': u'company'}, {u'Data_Weight': 17.6966, u'Topic_Name': u'career advice'}, {u'Data_Weight': 16.4285, u'Topic_Name': u'school'}, {u'Data_Weight': 16.4285, u'Topic_Name': u'graphic'}, {u'Data_Weight': 16.4285, u'Topic_Name': u'students'}, {u'Data_Weight': 16.4285, u'Topic_Name': u'industry'}, {u'Data_Weight': 16.4285, u'Topic_Name': u'state'}, {u'Data_Weight': 16.4285, u'Topic_Name': u'university'}, {u'Data_Weight': 16.4285, u'Topic_Name': u'ferris'}, {u'Data_Weight': 16.4285, u'Topic_Name': u'technology'}, {u'Data_Weight': 16.4285, u'Topic_Name': u'imaging'}, {u'Data_Weight': 16.4285, u'Topic_Name': u'printing'}, {u'Data_Weight': 15.5688, u'Topic_Name': u'ohio'}, {u'Data_Weight': 15.5688, u'Topic_Name': u'benefits'}, {u'Data_Weight': 15.3, u'Topic_Name': u'freelance jobs'}, {u'Data_Weight': 10.8945, u'Topic_Name': u'ratings'}, {u'Data_Weight': 10.8945, u'Topic_Name': u'business'}, {u'Data_Weight': 10.8945, u'Topic_Name': u'jobs companies'}])\n",
      "****************\n",
      "(u'Engagement', {u'Visits': [{u'Date': u'2015-11-01', u'Visits': 34232112}, {u'Date': u'2015-11-01', u'Visits': 34232112}], u'Avg_Page_Views': 4.15, u'Bounce_Rate': 0.5436, u'Date': u'04/2016', u'Total_Visits': 32200000, u'Avg_Time_On_Page': u'00:03:36'})\n",
      "****************\n",
      "(u'Also_Visited_Websites', {u'Domains': [u'Careerbuilder.com', u'Ziprecruiter.com', u'Dice.com', u'Indeed.com', u'Employer.dice.com'], u'Total': 2154})\n",
      "****************\n",
      "(u'Traffic_Sources', {u'Search': {u'Organic': {u'Keywords': [u'monster', u'cover letter', u'monster jobs', u'resignation letter', u'monster.com'], u'Total': 23037, u'Percent': 0.9816}, u'Percent': 0.451, u'Paid': {u'Keywords': [u'monster', u'monster jobs', u'monster.com', u'jobs', u'job search'], u'Total': 79, u'Percent': 0.0184}}, u'Referrals': {u'Top_Destination': {u'Domains': [{u'Domain': u'Indeed.com', u'Percent': 0.3221}, {u'Domain': u'Login.usajobs.gov', u'Percent': 0.3221}], u'Total': 1982}, u'Percent': 0.1837, u'Top_Referring': {u'Domains': [{u'Domain': u'Indeed.com', u'Percent': 0.3221}, {u'Domain': u'Login.usajobs.gov', u'Percent': 0.3221}], u'Total': 2023}}, u'Direct': {u'Percent': 0.3261}, u'Display_Advertising': {u'Top_Publishers': {u'Domains': [u'Msn.com', u'Moster.com', u'Wikiorgcharts.com', u'Jobgenie.ca', u'Google.com'], u'Total': 78}, u'Percent': 0.0013, u'Top_Ad_Networks': [{u'Domain': u'Google Display Network', u'Percent': 0.2978}, {u'Domain': u'Taboola', u'Percent': 0.2065}, {u'Domain': u'Outbrain', u'Percent': 0.2064}, {u'Domain': u'Pure Leads', u'Percent': 0.068}, {u'Domain': u'Adcash', u'Percent': 0.0623}, {u'Domain': u'Other', u'Percent': 0.159}]}, u'Social': {u'Domains': [{u'Domain': u'Facebook', u'Percent': 0.3198}, {u'Domain': u'Linkedin', u'Percent': 0.2669}, {u'Domain': u'Glassdoor', u'Percent': 0.1391}, {u'Domain': u'Youtube', u'Percent': 0.1073}, {u'Domain': u'Twitter', u'Percent': 0.0755}], u'Percent': 0.0132}, u'Mail': {u'Percent': 0.0247}})\n",
      "****************\n",
      "(u'Traffic_By_Countries', [{u'Country': u'United States', u'Percent': 0.7963}, {u'Country': u'India', u'Percent': 0.0461}, {u'Country': u'Canada', u'Percent': 0.0153}, {u'Country': u'United Kingdom', u'Percent': 0.0143}, {u'Country': u'Philippines', u'Percent': 0.0105}])\n",
      "****************\n",
      "(u'SimilarWebURL', u'https://www.similarweb.com/website/monster.com')\n",
      "****************\n",
      "(u'Audience_Interests', [{u'Percent': 0.8015, u'Sub_Category': u'Jobs and Employment', u'Main_Category': u'Career and Education'}])\n",
      "****************\n",
      "(u'Related_Mobile_Apps', {u'Google_Play': [{u'url': u'https://www.similarweb.com/app/google-play/com.careerone.android.Views/statistics', u'Name': u'CareerOne Job Search'}, {u'url': u'https://www.similarweb.com/app/google-play/com.military.militarypay/statistics', u'Name': u'Military Pay by Military.com'}, {u'url': u'https://www.similarweb.com/app/google-play/com.military.news/statistics', u'Name': u'Military News by Military.com'}, {u'url': u'https://www.similarweb.com/app/google-play/com.monster.android.Views/statistics', u'Name': u'Monster Job Search'}, {u'url': u'https://www.similarweb.com/app/google-play/com.monster.monsterjobs.ecom/statistics', u'Name': u'Monster Business'}, {u'url': u'https://www.similarweb.com/app/google-play/com.monster.powerrecruiterchallenge/statistics', u'Name': u'Monster PRC'}, {u'url': u'https://www.similarweb.com/app/google-play/com.monster.universitytour/statistics', u'Name': u'Monster University Tour'}, {u'url': u'https://www.similarweb.com/app/google-play/com.monster.wigglemonster/statistics', u'Name': u'Wiggle Monster'}], u'App_Store': [{u'url': u'https://www.similarweb.com/app/app-store/1040722866/statistics', u'Name': u'Monster Worldwide Events'}, {u'url': u'https://www.similarweb.com/app/app-store/1042533415/statistics', u'Name': u'Monster Power Recruiter Challenge'}, {u'url': u'https://www.similarweb.com/app/app-store/388924653/statistics', u'Name': u'Monster.com Job Search'}, {u'url': u'https://www.similarweb.com/app/app-store/409748776/statistics', u'Name': u'CareerOne'}, {u'url': u'https://www.similarweb.com/app/app-store/409983065/statistics', u'Name': u'Monster.com Job Search for iPad'}, {u'url': u'https://www.similarweb.com/app/app-store/424547378/statistics', u'Name': u'CareerOne.com.au Jobs for iPad'}, {u'url': u'https://www.similarweb.com/app/app-store/426634637/statistics', u'Name': u'Monster.com Interviews by...'}, {u'url': u'https://www.similarweb.com/app/app-store/574344908/statistics', u'Name': u'Military News by Military.com'}]})\n",
      "****************\n"
     ]
    }
   ],
   "source": [
    "for k, v in  b.items():\n",
    "    print(k,v)\n",
    "    print(\"****************\")"
   ]
  },
  {
   "cell_type": "code",
   "execution_count": 195,
   "metadata": {
    "collapsed": false
   },
   "outputs": [],
   "source": [
    "with open(\"similarweb.json\") as data:\n",
    "    sb = json.load(data)"
   ]
  },
  {
   "cell_type": "code",
   "execution_count": 197,
   "metadata": {
    "collapsed": false
   },
   "outputs": [
    {
     "data": {
      "text/plain": [
       "[u'Category',\n",
       " u'IsVerifiedData',\n",
       " u'CountryRanks',\n",
       " u'Country',\n",
       " u'RedirectUrl',\n",
       " u'Referrals',\n",
       " u'TopCountryShares',\n",
       " u'Date',\n",
       " u'TrafficSources',\n",
       " u'Engagements',\n",
       " u'AdNetworks',\n",
       " u'GlobalRank',\n",
       " u'CategoryRank',\n",
       " u'Icon']"
      ]
     },
     "execution_count": 197,
     "metadata": {},
     "output_type": "execute_result"
    }
   ],
   "source": [
    "sb.values()[0].keys()"
   ]
  },
  {
   "cell_type": "code",
   "execution_count": null,
   "metadata": {
    "collapsed": true
   },
   "outputs": [],
   "source": []
  },
  {
   "cell_type": "code",
   "execution_count": 207,
   "metadata": {
    "collapsed": false
   },
   "outputs": [
    {
     "data": {
      "text/plain": [
       "[6,\n",
       " [[u'Google Display Network', u'', 0.5026093556692278, 0],\n",
       "  [u'Outbrain', u'', 0.20025845006906143, 0],\n",
       "  [u'Taboola', u'', 0.16294321092575806, 0],\n",
       "  [u'Microsoft adCenter', u'', 0.03855908044808015, 0],\n",
       "  [u'Media6Degrees', u'', 0.02612066740031236, 0],\n",
       "  [u'Other', u'', 0.06950923548756051, 0]]]"
      ]
     },
     "execution_count": 207,
     "metadata": {},
     "output_type": "execute_result"
    }
   ],
   "source": [
    "sb.values()[0].values()[-4].values()"
   ]
  }
 ],
 "metadata": {
  "kernelspec": {
   "display_name": "Python 2",
   "language": "python",
   "name": "python2"
  },
  "language_info": {
   "codemirror_mode": {
    "name": "ipython",
    "version": 2
   },
   "file_extension": ".py",
   "mimetype": "text/x-python",
   "name": "python",
   "nbconvert_exporter": "python",
   "pygments_lexer": "ipython2",
   "version": "2.7.11"
  }
 },
 "nbformat": 4,
 "nbformat_minor": 0
}
